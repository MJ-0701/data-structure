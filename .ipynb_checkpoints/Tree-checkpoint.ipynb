{
 "cells": [
  {
   "cell_type": "code",
   "execution_count": 2,
   "id": "e57320ad",
   "metadata": {},
   "outputs": [],
   "source": [
    "class Node : \n",
    "    def __init__(self,value):\n",
    "        self.value = value\n",
    "        self.left = None\n",
    "        self.right = None"
   ]
  },
  {
   "cell_type": "code",
   "execution_count": 3,
   "id": "61bc3df8",
   "metadata": {},
   "outputs": [],
   "source": [
    "class NodeMgmt :\n",
    "    def __init__(self, head):\n",
    "        self.head = head\n",
    "        \n",
    "    def insert(self, value):\n",
    "        self.current_node = self.head\n",
    "        while True:\n",
    "            if value < self.current_node.value: # 현재 들어온 노드가 기존의 노드보다 작으면 (왼쪽)\n",
    "                if self.current_node.left != None:\n",
    "                    self.current_node = self.current_node.left # 비교할 대상을 변경\n",
    "                else:\n",
    "                    self.current_node.left = Node(value) # 브랜치가 비어있다면 새로운 노드를 생성\n",
    "                    break\n",
    "            else:\n",
    "                if self.current_node.right != None:\n",
    "                    self.current_node = self.current_node.right # 대상 변경\n",
    "                else:\n",
    "                    self.current_node.right = Node(value)\n",
    "                    break"
   ]
  },
  {
   "cell_type": "code",
   "execution_count": 4,
   "id": "06c9b944",
   "metadata": {},
   "outputs": [],
   "source": [
    "head = Node(1)\n",
    "BST = NodeMgmt(head)\n",
    "BST.insert(2)"
   ]
  },
  {
   "cell_type": "code",
   "execution_count": 5,
   "id": "1b28fdd2",
   "metadata": {},
   "outputs": [],
   "source": [
    "class NodeMgmt :\n",
    "    def __init__(self, head):\n",
    "        self.head = head\n",
    "        \n",
    "    def insert(self, value):\n",
    "        self.current_node = self.head\n",
    "        while True:\n",
    "            if value < self.current_node.value: # 현재 들어온 노드가 기존의 노드보다 작으면 (왼쪽)\n",
    "                if self.current_node.left != None:\n",
    "                    self.current_node = self.current_node.left # 비교할 대상을 변경\n",
    "                else:\n",
    "                    self.current_node.left = Node(value) # 브랜치가 비어있다면 새로운 노드를 생성\n",
    "                    break\n",
    "            else:\n",
    "                if self.current_node.right != None:\n",
    "                    self.current_node = self.current_node.right # 대상 변경\n",
    "                else:\n",
    "                    self.current_node.right = Node(value)\n",
    "                    break\n",
    "    def search(self,value):\n",
    "        self.current_node = self.head\n",
    "        while self.current_node:\n",
    "            if self.current_node.value == value:\n",
    "                return True\n",
    "            elif value < self.current_node.value:# 들어온 값이 현재의 노드보다 작다면 (왼쪽)\n",
    "                self.current_node = self.current_node.left\n",
    "            else:\n",
    "                self.current_node = self.current_node.right\n",
    "        return False # While 구문을 다 돌았는데 못찾았다면 해당 데이터가 없다는 뜻이다.\n",
    "                \n",
    "        "
   ]
  },
  {
   "cell_type": "code",
   "execution_count": 6,
   "id": "37fed51c",
   "metadata": {},
   "outputs": [],
   "source": [
    "head = Node(1)\n",
    "BST = NodeMgmt(head)\n",
    "BST.insert(2)\n",
    "BST.insert(3)\n",
    "BST.insert(0)\n",
    "BST.insert(4)\n",
    "BST.insert(8)"
   ]
  },
  {
   "cell_type": "code",
   "execution_count": 7,
   "id": "cb20264e",
   "metadata": {},
   "outputs": [
    {
     "data": {
      "text/plain": [
       "False"
      ]
     },
     "execution_count": 7,
     "metadata": {},
     "output_type": "execute_result"
    }
   ],
   "source": [
    "BST.search(9)"
   ]
  },
  {
   "cell_type": "code",
   "execution_count": 8,
   "id": "18b0a586",
   "metadata": {},
   "outputs": [
    {
     "ename": "SyntaxError",
     "evalue": "invalid syntax (3915017452.py, line 2)",
     "output_type": "error",
     "traceback": [
      "\u001b[0;36m  File \u001b[0;32m\"/var/folders/nx/mrph71m5539162ycbx61p9nm0000gn/T/ipykernel_9085/3915017452.py\"\u001b[0;36m, line \u001b[0;32m2\u001b[0m\n\u001b[0;31m    def(self, value):\u001b[0m\n\u001b[0m       ^\u001b[0m\n\u001b[0;31mSyntaxError\u001b[0m\u001b[0;31m:\u001b[0m invalid syntax\n"
     ]
    }
   ],
   "source": [
    "# 1.삭제할 Node 탐색\n",
    "def(self, value):\n",
    "    searched = False\n",
    "    self.current_node = self.head # 삭제할 노드를 지칭할것.\n",
    "    self.parent = self.head # 삭제할 노드의 패런트 노드\n",
    "    while self.current_node:\n",
    "        if self.current_node.value = value:\n",
    "            searched = True\n",
    "            break # 삭제할 노드를 찾았기 때문에 break\n",
    "        elif value < self.current_node.value:\n",
    "            self.parent = self.current_node\n",
    "            self.current_node = self.current_node.left\n",
    "        else:\n",
    "            self.parent = self.current_node\n",
    "            self.current_node = self.current_node.right\n",
    "   \n",
    "    if searched == False:\n",
    "        return False\n",
    "    "
   ]
  },
  {
   "cell_type": "code",
   "execution_count": 9,
   "id": "1ee6b559",
   "metadata": {},
   "outputs": [
    {
     "ename": "IndentationError",
     "evalue": "unexpected indent (252442945.py, line 3)",
     "output_type": "error",
     "traceback": [
      "\u001b[0;36m  File \u001b[0;32m\"/var/folders/nx/mrph71m5539162ycbx61p9nm0000gn/T/ipykernel_9085/252442945.py\"\u001b[0;36m, line \u001b[0;32m3\u001b[0m\n\u001b[0;31m    if self.current_node.left == None and self.current_node.right == None:\u001b[0m\n\u001b[0m    ^\u001b[0m\n\u001b[0;31mIndentationError\u001b[0m\u001b[0;31m:\u001b[0m unexpected indent\n"
     ]
    }
   ],
   "source": [
    "# Case1 삭제할 Node가 Leaf Node 일때.\n",
    "# self.current_node 가 삭제할 Node가 될것이고, self.parent는 삭제할 Node의 Parent Node 인 상태.\n",
    "    if self.current_node.left == None and self.current_node.right == None:\n",
    "        if value < self.parent.value:\n",
    "            self.parent.lefr = None\n",
    "        else:\n",
    "            self.parent.right = None\n",
    "        del self.current_node"
   ]
  },
  {
   "cell_type": "code",
   "execution_count": null,
   "id": "5e099e3c",
   "metadata": {},
   "outputs": [],
   "source": [
    "# Case2 삭제할 Node 가 Child Node를 한개 갖고 있을 경우.\n",
    "# 왼쪽에만 Child 가 있을경우\n",
    "    if self.current_node.left != None and self.current_node.right == None:\n",
    "        if value < self.parent.value:\n",
    "            self.parent.left = self.current_node.left\n",
    "        else:\n",
    "            slef.parent.right = self.current_node.left\n",
    "# 오른쪽에만 Child 가 있을 경우        \n",
    "    elif self.current_node.right != None and self.current_node.left == None:\n",
    "        if value < self.parent.value:\n",
    "            self.parent.left = slef.current_node.right\n",
    "        else:\n",
    "            self.parent.right = self.current_node.right"
   ]
  }
 ],
 "metadata": {
  "kernelspec": {
   "display_name": "Python 3 (ipykernel)",
   "language": "python",
   "name": "python3"
  },
  "language_info": {
   "codemirror_mode": {
    "name": "ipython",
    "version": 3
   },
   "file_extension": ".py",
   "mimetype": "text/x-python",
   "name": "python",
   "nbconvert_exporter": "python",
   "pygments_lexer": "ipython3",
   "version": "3.9.7"
  }
 },
 "nbformat": 4,
 "nbformat_minor": 5
}
