{
 "cells": [
  {
   "cell_type": "code",
   "execution_count": 1,
   "id": "e57320ad",
   "metadata": {},
   "outputs": [],
   "source": [
    "class Node : \n",
    "    def __init__(self,value):\n",
    "        self.value = value\n",
    "        self.left = None\n",
    "        self.right = None"
   ]
  },
  {
   "cell_type": "code",
   "execution_count": 2,
   "id": "61bc3df8",
   "metadata": {},
   "outputs": [],
   "source": [
    "class NodeMgmt :\n",
    "    def __init__(self, head):\n",
    "        self.head = head\n",
    "        \n",
    "    def insert(self, value):\n",
    "        self.current_node = self.head\n",
    "        while True:\n",
    "            if value < self.current_node.value: # 현재 들어온 노드가 기존의 노드보다 작으면 (왼쪽)\n",
    "                if self.current_node.left != None:\n",
    "                    self.current_node = self.current_node.left # 비교할 대상을 변경\n",
    "                else:\n",
    "                    self.current_node.left = Node(value) # 브랜치가 비어있다면 새로운 노드를 생성\n",
    "                    break\n",
    "            else:\n",
    "                if self.current_node.right != None:\n",
    "                    self.current_node = self.current_node.right # 대상 변경\n",
    "                else:\n",
    "                    self.current_node.right = Node(value)\n",
    "                    break"
   ]
  },
  {
   "cell_type": "code",
   "execution_count": 4,
   "id": "06c9b944",
   "metadata": {},
   "outputs": [],
   "source": [
    "head = Node(1)\n",
    "BST = NodeMgmt(head)\n",
    "BST.insert(2)"
   ]
  },
  {
   "cell_type": "code",
   "execution_count": 5,
   "id": "1b28fdd2",
   "metadata": {},
   "outputs": [],
   "source": [
    "class NodeMgmt :\n",
    "    def __init__(self, head):\n",
    "        self.head = head\n",
    "        \n",
    "    def insert(self, value):\n",
    "        self.current_node = self.head\n",
    "        while True:\n",
    "            if value < self.current_node.value: # 현재 들어온 노드가 기존의 노드보다 작으면 (왼쪽)\n",
    "                if self.current_node.left != None:\n",
    "                    self.current_node = self.current_node.left # 비교할 대상을 변경\n",
    "                else:\n",
    "                    self.current_node.left = Node(value) # 브랜치가 비어있다면 새로운 노드를 생성\n",
    "                    break\n",
    "            else:\n",
    "                if self.current_node.right != None:\n",
    "                    self.current_node = self.current_node.right # 대상 변경\n",
    "                else:\n",
    "                    self.current_node.right = Node(value)\n",
    "                    break\n",
    "    def search(self,value):\n",
    "        self.current_node = self.head\n",
    "        while self.current_node:\n",
    "            if self.current_node.value == value:\n",
    "                return True\n",
    "            elif value < self.current_node.value:# 들어온 값이 현재의 노드보다 작다면 (왼쪽)\n",
    "                self.current_node = self.current_node.left\n",
    "            else:\n",
    "                self.current_node = self.current_node.right\n",
    "        return False # While 구문을 다 돌았는데 못찾았다면 해당 데이터가 없다는 뜻이다.\n",
    "                \n",
    "        "
   ]
  },
  {
   "cell_type": "code",
   "execution_count": 8,
   "id": "37fed51c",
   "metadata": {},
   "outputs": [],
   "source": [
    "head = Node(1)\n",
    "BST = NodeMgmt(head)\n",
    "BST.insert(2)\n",
    "BST.insert(3)\n",
    "BST.insert(0)\n",
    "BST.insert(4)\n",
    "BST.insert(8)"
   ]
  },
  {
   "cell_type": "code",
   "execution_count": 11,
   "id": "cb20264e",
   "metadata": {},
   "outputs": [
    {
     "data": {
      "text/plain": [
       "False"
      ]
     },
     "execution_count": 11,
     "metadata": {},
     "output_type": "execute_result"
    }
   ],
   "source": [
    "BST.search(9)"
   ]
  }
 ],
 "metadata": {
  "kernelspec": {
   "display_name": "Python 3 (ipykernel)",
   "language": "python",
   "name": "python3"
  },
  "language_info": {
   "codemirror_mode": {
    "name": "ipython",
    "version": 3
   },
   "file_extension": ".py",
   "mimetype": "text/x-python",
   "name": "python",
   "nbconvert_exporter": "python",
   "pygments_lexer": "ipython3",
   "version": "3.9.7"
  }
 },
 "nbformat": 4,
 "nbformat_minor": 5
}
